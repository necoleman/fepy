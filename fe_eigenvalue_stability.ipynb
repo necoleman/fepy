{
 "cells": [
  {
   "cell_type": "code",
   "execution_count": 30,
   "metadata": {
    "collapsed": false
   },
   "outputs": [
    {
     "name": "stdout",
     "output_type": "stream",
     "text": [
      "The autoreload extension is already loaded. To reload it, use:\n",
      "  %reload_ext autoreload\n",
      "['seaborn-deep', 'seaborn-bright', 'seaborn-darkgrid', 'seaborn-poster', 'dark_background', 'ggplot', 'seaborn-talk', 'seaborn-dark-palette', 'seaborn-dark', 'bmh', 'seaborn-whitegrid', 'seaborn-paper', 'fivethirtyeight', 'classic', 'grayscale', 'seaborn-notebook', 'seaborn-colorblind', 'seaborn-muted', 'seaborn-white', 'seaborn-ticks', 'seaborn-pastel']\n"
     ]
    }
   ],
   "source": [
    "%load_ext autoreload\n",
    "import numpy as np\n",
    "import functools\n",
    "%aimport FE\n",
    "%aimport common_meshes\n",
    "import matplotlib.pyplot as plt\n",
    "import triangle\n",
    "import pandas as pd\n",
    "import matplotlib.cm as cm\n",
    "%matplotlib inline\n",
    "print(plt.style.available)\n",
    "plt.style.use('seaborn-paper')"
   ]
  },
  {
   "cell_type": "markdown",
   "metadata": {},
   "source": [
    "#Some helper functions"
   ]
  },
  {
   "cell_type": "code",
   "execution_count": 2,
   "metadata": {
    "collapsed": true
   },
   "outputs": [],
   "source": [
    "def cartesian_product(arrays):\n",
    "    broadcastable = np.ix_(*arrays)\n",
    "    broadcasted = np.broadcast_arrays(*broadcastable)\n",
    "    rows, cols = functools.reduce(np.multiply, broadcasted[0].shape), len(broadcasted)\n",
    "    out = np.empty(rows * cols, dtype=broadcasted[0].dtype)\n",
    "    start, end = 0, rows\n",
    "    for a in broadcasted:\n",
    "        out[start:end] = a.reshape(-1)\n",
    "        start, end = end, end + rows\n",
    "    return out.reshape(cols, rows).T"
   ]
  },
  {
   "cell_type": "code",
   "execution_count": 5,
   "metadata": {
    "collapsed": false
   },
   "outputs": [
    {
     "data": {
      "text/plain": [
       "7"
      ]
     },
     "execution_count": 5,
     "metadata": {},
     "output_type": "execute_result"
    }
   ],
   "source": [
    "def is_in_ellipse(L, W, lam, pt):\n",
    "    x,y = pt\n",
    "    return int((x*np.pi/L)**2 + (y*np.pi/W)**2 < lam)\n",
    "\n",
    "def count(L, W, lam, dirichlet):\n",
    "    \"\"\"Compute the eigenvalue counting function of a rectangle\"\"\"\n",
    "    # if dirichlet, start all counting ranges at 1. otherwise, start at 0.\n",
    "    start = int(dirichlet)\n",
    "    max_x = np.floor(L*np.sqrt(lam)/np.pi)\n",
    "    max_y = np.floor(W*np.sqrt(lam)/np.pi)\n",
    "    x = np.arange(start, max_x+1, 1)\n",
    "    y = np.arange(start, max_y+1, 1)\n",
    "    grid = cartesian_product([x,y])\n",
    "    def test(pt):\n",
    "        return is_in_ellipse(L, W, lam, pt)\n",
    "    if not list(grid):\n",
    "        return 0\n",
    "    else:\n",
    "        return np.sum(np.apply_along_axis(test, 1, grid))\n",
    "\n",
    "count(5, 3, 10, True)"
   ]
  },
  {
   "cell_type": "markdown",
   "metadata": {},
   "source": [
    "#We will consider a 1x1 square\n",
    "#Let us compute its first 10 Neumann eigenvalues:"
   ]
  },
  {
   "cell_type": "code",
   "execution_count": 65,
   "metadata": {
    "collapsed": true
   },
   "outputs": [],
   "source": [
    "first_eigenvalues = np.array(\n",
    "    sorted([(np.pi*m/1.)**2 + (np.pi*n/1.)**2 for m in range(10) for n in range(25)])[:25]\n",
    ")"
   ]
  },
  {
   "cell_type": "code",
   "execution_count": 43,
   "metadata": {
    "collapsed": false
   },
   "outputs": [
    {
     "name": "stdout",
     "output_type": "stream",
     "text": [
      "[   0.            9.8696044     9.8696044    19.7392088    39.4784176\n",
      "   39.4784176    49.34802201   49.34802201   78.95683521   88.82643961\n",
      "   88.82643961   98.69604401   98.69604401  128.30485721  128.30485721]\n"
     ]
    }
   ],
   "source": [
    "print(first_eigenvalues)"
   ]
  },
  {
   "cell_type": "markdown",
   "metadata": {},
   "source": [
    "#Now we create meshes ..."
   ]
  },
  {
   "cell_type": "code",
   "execution_count": 78,
   "metadata": {
    "collapsed": true
   },
   "outputs": [],
   "source": [
    "skeleton = {\"vertices\": np.array([[0., 0.], [1., 0.], [1., 1.], [0., 1.]]),\n",
    "            \"segments\": np.array([[0, 1], [1, 2], [2, 3], [3, 0]])}\n",
    "meshes = {}\n",
    "fineness = [\"0.00005\", \"0.00007\", \"0.0001\", \"0.0005\"]\n",
    "for a in fineness:\n",
    "    meshes[str(a)] = triangle.triangulate(skeleton, 'pqa'+str(a))"
   ]
  },
  {
   "cell_type": "code",
   "execution_count": null,
   "metadata": {
    "collapsed": false
   },
   "outputs": [],
   "source": [
    "%%time\n",
    "eigvals = {}\n",
    "for a in fineness:\n",
    "    eigvals[str(a)] = FE.findEigs(meshes[str(a)], 25)[0]"
   ]
  },
  {
   "cell_type": "code",
   "execution_count": null,
   "metadata": {
    "collapsed": false
   },
   "outputs": [],
   "source": [
    "eigval_array = np.array([first_eigenvalues] + [eigvals[str(a)] for a in fineness]).T\n",
    "eigval_df = pd.DataFrame(eigval_array, columns=[\"ground_truth\"] + [str(a) for a in fineness])"
   ]
  },
  {
   "cell_type": "code",
   "execution_count": null,
   "metadata": {
    "collapsed": false
   },
   "outputs": [],
   "source": [
    "eigval_df"
   ]
  },
  {
   "cell_type": "code",
   "execution_count": null,
   "metadata": {
    "collapsed": false
   },
   "outputs": [],
   "source": [
    "colors = cm.viridis(np.linspace(0, 1, len(fineness)+1))\n",
    "for y, c in zip(eigval_df.columns, colors):\n",
    "    print(c)\n",
    "    plt.scatter(eigval_df.index, eigval_df[y], label=y, color=c)\n",
    "plt.legend(loc='upper left')\n",
    "plt.show()"
   ]
  },
  {
   "cell_type": "code",
   "execution_count": null,
   "metadata": {
    "collapsed": false
   },
   "outputs": [],
   "source": [
    "colors = cm.viridis(np.linspace(0, 1, len(fineness)+1))\n",
    "for y, c in zip(eigval_df.columns, colors):\n",
    "    print(c)\n",
    "    plt.scatter(eigval_df.index, (eigval_df[y] - eigval_df[\"ground_truth\"])/eigval_df[\"ground_truth\"],\n",
    "                label=y, color=c)\n",
    "plt.legend(loc='upper left')\n",
    "plt.show()"
   ]
  },
  {
   "cell_type": "code",
   "execution_count": null,
   "metadata": {
    "collapsed": true
   },
   "outputs": [],
   "source": []
  }
 ],
 "metadata": {
  "kernelspec": {
   "display_name": "Python [conda root]",
   "language": "python",
   "name": "conda-root-py"
  },
  "language_info": {
   "codemirror_mode": {
    "name": "ipython",
    "version": 3
   },
   "file_extension": ".py",
   "mimetype": "text/x-python",
   "name": "python",
   "nbconvert_exporter": "python",
   "pygments_lexer": "ipython3",
   "version": "3.5.2"
  }
 },
 "nbformat": 4,
 "nbformat_minor": 1
}
