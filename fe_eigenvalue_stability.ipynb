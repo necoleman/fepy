{
 "cells": [
  {
   "cell_type": "code",
   "execution_count": 30,
   "metadata": {
    "collapsed": false
   },
   "outputs": [
    {
     "name": "stdout",
     "output_type": "stream",
     "text": [
      "The autoreload extension is already loaded. To reload it, use:\n",
      "  %reload_ext autoreload\n",
      "['seaborn-deep', 'seaborn-bright', 'seaborn-darkgrid', 'seaborn-poster', 'dark_background', 'ggplot', 'seaborn-talk', 'seaborn-dark-palette', 'seaborn-dark', 'bmh', 'seaborn-whitegrid', 'seaborn-paper', 'fivethirtyeight', 'classic', 'grayscale', 'seaborn-notebook', 'seaborn-colorblind', 'seaborn-muted', 'seaborn-white', 'seaborn-ticks', 'seaborn-pastel']\n"
     ]
    }
   ],
   "source": [
    "%load_ext autoreload\n",
    "import numpy as np\n",
    "import functools\n",
    "%aimport FE\n",
    "%aimport common_meshes\n",
    "import matplotlib.pyplot as plt\n",
    "import triangle\n",
    "import pandas as pd\n",
    "import matplotlib.cm as cm\n",
    "%matplotlib inline\n",
    "print(plt.style.available)\n",
    "plt.style.use('seaborn-paper')"
   ]
  },
  {
   "cell_type": "markdown",
   "metadata": {},
   "source": [
    "#Some helper functions"
   ]
  },
  {
   "cell_type": "code",
   "execution_count": 2,
   "metadata": {
    "collapsed": true
   },
   "outputs": [],
   "source": [
    "def cartesian_product(arrays):\n",
    "    broadcastable = np.ix_(*arrays)\n",
    "    broadcasted = np.broadcast_arrays(*broadcastable)\n",
    "    rows, cols = functools.reduce(np.multiply, broadcasted[0].shape), len(broadcasted)\n",
    "    out = np.empty(rows * cols, dtype=broadcasted[0].dtype)\n",
    "    start, end = 0, rows\n",
    "    for a in broadcasted:\n",
    "        out[start:end] = a.reshape(-1)\n",
    "        start, end = end, end + rows\n",
    "    return out.reshape(cols, rows).T"
   ]
  },
  {
   "cell_type": "code",
   "execution_count": 5,
   "metadata": {
    "collapsed": false
   },
   "outputs": [
    {
     "data": {
      "text/plain": [
       "7"
      ]
     },
     "execution_count": 5,
     "metadata": {},
     "output_type": "execute_result"
    }
   ],
   "source": [
    "def is_in_ellipse(L, W, lam, pt):\n",
    "    x,y = pt\n",
    "    return int((x*np.pi/L)**2 + (y*np.pi/W)**2 < lam)\n",
    "\n",
    "def count(L, W, lam, dirichlet):\n",
    "    \"\"\"Compute the eigenvalue counting function of a rectangle\"\"\"\n",
    "    # if dirichlet, start all counting ranges at 1. otherwise, start at 0.\n",
    "    start = int(dirichlet)\n",
    "    max_x = np.floor(L*np.sqrt(lam)/np.pi)\n",
    "    max_y = np.floor(W*np.sqrt(lam)/np.pi)\n",
    "    x = np.arange(start, max_x+1, 1)\n",
    "    y = np.arange(start, max_y+1, 1)\n",
    "    grid = cartesian_product([x,y])\n",
    "    def test(pt):\n",
    "        return is_in_ellipse(L, W, lam, pt)\n",
    "    if not list(grid):\n",
    "        return 0\n",
    "    else:\n",
    "        return np.sum(np.apply_along_axis(test, 1, grid))\n",
    "\n",
    "count(5, 3, 10, True)"
   ]
  },
  {
   "cell_type": "markdown",
   "metadata": {},
   "source": [
    "#We will consider a 1x1 square\n",
    "#Let us compute its first 10 Neumann eigenvalues:"
   ]
  },
  {
   "cell_type": "code",
   "execution_count": 65,
   "metadata": {
    "collapsed": true
   },
   "outputs": [],
   "source": [
    "first_eigenvalues = np.array(\n",
    "    sorted([(np.pi*m/1.)**2 + (np.pi*n/1.)**2 for m in range(10) for n in range(25)])[:25]\n",
    ")"
   ]
  },
  {
   "cell_type": "code",
   "execution_count": 43,
   "metadata": {
    "collapsed": false
   },
   "outputs": [
    {
     "name": "stdout",
     "output_type": "stream",
     "text": [
      "[   0.            9.8696044     9.8696044    19.7392088    39.4784176\n",
      "   39.4784176    49.34802201   49.34802201   78.95683521   88.82643961\n",
      "   88.82643961   98.69604401   98.69604401  128.30485721  128.30485721]\n"
     ]
    }
   ],
   "source": [
    "print(first_eigenvalues)"
   ]
  },
  {
   "cell_type": "markdown",
   "metadata": {},
   "source": [
    "#Now we create meshes ..."
   ]
  },
  {
   "cell_type": "code",
   "execution_count": 78,
   "metadata": {
    "collapsed": true
   },
   "outputs": [],
   "source": [
    "skeleton = {\"vertices\": np.array([[0., 0.], [1., 0.], [1., 1.], [0., 1.]]),\n",
    "            \"segments\": np.array([[0, 1], [1, 2], [2, 3], [3, 0]])}\n",
    "meshes = {}\n",
    "fineness = [\"0.00005\", \"0.00007\", \"0.0001\", \"0.0005\"]\n",
    "for a in fineness:\n",
    "    meshes[str(a)] = triangle.triangulate(skeleton, 'pqa'+str(a))"
   ]
  },
  {
   "cell_type": "code",
   "execution_count": 79,
   "metadata": {
    "collapsed": false
   },
   "outputs": [
    {
     "name": "stdout",
     "output_type": "stream",
     "text": [
      "CPU times: user 13min 32s, sys: 20.3 s, total: 13min 53s\n",
      "Wall time: 3min 56s\n"
     ]
    }
   ],
   "source": [
    "%%time\n",
    "eigvals = {}\n",
    "for a in fineness:\n",
    "    eigvals[str(a)] = FE.findEigs(meshes[str(a)], 25)[0]"
   ]
  },
  {
   "cell_type": "code",
   "execution_count": 80,
   "metadata": {
    "collapsed": false
   },
   "outputs": [],
   "source": [
    "eigval_array = np.array([first_eigenvalues] + [eigvals[str(a)] for a in fineness]).T\n",
    "eigval_df = pd.DataFrame(eigval_array, columns=[\"ground_truth\"] + [str(a) for a in fineness])"
   ]
  },
  {
   "cell_type": "code",
   "execution_count": 81,
   "metadata": {
    "collapsed": false
   },
   "outputs": [
    {
     "data": {
      "text/html": [
       "<div>\n",
       "<table border=\"1\" class=\"dataframe\">\n",
       "  <thead>\n",
       "    <tr style=\"text-align: right;\">\n",
       "      <th></th>\n",
       "      <th>ground_truth</th>\n",
       "      <th>0.00005</th>\n",
       "      <th>0.00007</th>\n",
       "      <th>0.0001</th>\n",
       "      <th>0.0005</th>\n",
       "    </tr>\n",
       "  </thead>\n",
       "  <tbody>\n",
       "    <tr>\n",
       "      <th>0</th>\n",
       "      <td>0.000000</td>\n",
       "      <td>1.045617e-12</td>\n",
       "      <td>7.328131e-13</td>\n",
       "      <td>3.660388e-13</td>\n",
       "      <td>4.935809e-14</td>\n",
       "    </tr>\n",
       "    <tr>\n",
       "      <th>1</th>\n",
       "      <td>9.869604</td>\n",
       "      <td>9.870181e+00</td>\n",
       "      <td>9.870406e+00</td>\n",
       "      <td>9.870750e+00</td>\n",
       "      <td>9.875250e+00</td>\n",
       "    </tr>\n",
       "    <tr>\n",
       "      <th>2</th>\n",
       "      <td>9.869604</td>\n",
       "      <td>9.870183e+00</td>\n",
       "      <td>9.870413e+00</td>\n",
       "      <td>9.870752e+00</td>\n",
       "      <td>9.875441e+00</td>\n",
       "    </tr>\n",
       "    <tr>\n",
       "      <th>3</th>\n",
       "      <td>19.739209</td>\n",
       "      <td>1.974151e+01</td>\n",
       "      <td>1.974246e+01</td>\n",
       "      <td>1.974381e+01</td>\n",
       "      <td>1.976285e+01</td>\n",
       "    </tr>\n",
       "    <tr>\n",
       "      <th>4</th>\n",
       "      <td>39.478418</td>\n",
       "      <td>3.948761e+01</td>\n",
       "      <td>3.949133e+01</td>\n",
       "      <td>3.949660e+01</td>\n",
       "      <td>3.956765e+01</td>\n",
       "    </tr>\n",
       "    <tr>\n",
       "      <th>5</th>\n",
       "      <td>39.478418</td>\n",
       "      <td>3.948767e+01</td>\n",
       "      <td>3.949147e+01</td>\n",
       "      <td>3.949669e+01</td>\n",
       "      <td>3.957239e+01</td>\n",
       "    </tr>\n",
       "    <tr>\n",
       "      <th>6</th>\n",
       "      <td>49.348022</td>\n",
       "      <td>4.936246e+01</td>\n",
       "      <td>4.936817e+01</td>\n",
       "      <td>4.937681e+01</td>\n",
       "      <td>4.949213e+01</td>\n",
       "    </tr>\n",
       "    <tr>\n",
       "      <th>7</th>\n",
       "      <td>49.348022</td>\n",
       "      <td>4.936254e+01</td>\n",
       "      <td>4.936859e+01</td>\n",
       "      <td>4.937688e+01</td>\n",
       "      <td>4.949861e+01</td>\n",
       "    </tr>\n",
       "    <tr>\n",
       "      <th>8</th>\n",
       "      <td>78.956835</td>\n",
       "      <td>7.899369e+01</td>\n",
       "      <td>7.900878e+01</td>\n",
       "      <td>7.903063e+01</td>\n",
       "      <td>7.933349e+01</td>\n",
       "    </tr>\n",
       "    <tr>\n",
       "      <th>9</th>\n",
       "      <td>88.826440</td>\n",
       "      <td>8.887297e+01</td>\n",
       "      <td>8.889147e+01</td>\n",
       "      <td>8.891910e+01</td>\n",
       "      <td>8.928215e+01</td>\n",
       "    </tr>\n",
       "    <tr>\n",
       "      <th>10</th>\n",
       "      <td>88.826440</td>\n",
       "      <td>8.887320e+01</td>\n",
       "      <td>8.889219e+01</td>\n",
       "      <td>8.891941e+01</td>\n",
       "      <td>8.930054e+01</td>\n",
       "    </tr>\n",
       "    <tr>\n",
       "      <th>11</th>\n",
       "      <td>98.696044</td>\n",
       "      <td>9.875388e+01</td>\n",
       "      <td>9.877674e+01</td>\n",
       "      <td>9.881174e+01</td>\n",
       "      <td>9.926978e+01</td>\n",
       "    </tr>\n",
       "    <tr>\n",
       "      <th>12</th>\n",
       "      <td>98.696044</td>\n",
       "      <td>9.875391e+01</td>\n",
       "      <td>9.877744e+01</td>\n",
       "      <td>9.881224e+01</td>\n",
       "      <td>9.931036e+01</td>\n",
       "    </tr>\n",
       "    <tr>\n",
       "      <th>13</th>\n",
       "      <td>128.304857</td>\n",
       "      <td>1.284020e+02</td>\n",
       "      <td>1.284403e+02</td>\n",
       "      <td>1.285004e+02</td>\n",
       "      <td>1.292636e+02</td>\n",
       "    </tr>\n",
       "    <tr>\n",
       "      <th>14</th>\n",
       "      <td>128.304857</td>\n",
       "      <td>1.284028e+02</td>\n",
       "      <td>1.284437e+02</td>\n",
       "      <td>1.285008e+02</td>\n",
       "      <td>1.293180e+02</td>\n",
       "    </tr>\n",
       "    <tr>\n",
       "      <th>15</th>\n",
       "      <td>157.913670</td>\n",
       "      <td>1.580614e+02</td>\n",
       "      <td>1.581202e+02</td>\n",
       "      <td>1.582067e+02</td>\n",
       "      <td>1.593811e+02</td>\n",
       "    </tr>\n",
       "    <tr>\n",
       "      <th>16</th>\n",
       "      <td>157.913670</td>\n",
       "      <td>1.580619e+02</td>\n",
       "      <td>1.581209e+02</td>\n",
       "      <td>1.582081e+02</td>\n",
       "      <td>1.594160e+02</td>\n",
       "    </tr>\n",
       "    <tr>\n",
       "      <th>17</th>\n",
       "      <td>167.783275</td>\n",
       "      <td>1.679516e+02</td>\n",
       "      <td>1.680170e+02</td>\n",
       "      <td>1.681158e+02</td>\n",
       "      <td>1.694895e+02</td>\n",
       "    </tr>\n",
       "    <tr>\n",
       "      <th>18</th>\n",
       "      <td>167.783275</td>\n",
       "      <td>1.679517e+02</td>\n",
       "      <td>1.680184e+02</td>\n",
       "      <td>1.681181e+02</td>\n",
       "      <td>1.695424e+02</td>\n",
       "    </tr>\n",
       "    <tr>\n",
       "      <th>19</th>\n",
       "      <td>177.652879</td>\n",
       "      <td>1.778396e+02</td>\n",
       "      <td>1.779142e+02</td>\n",
       "      <td>1.780254e+02</td>\n",
       "      <td>1.795504e+02</td>\n",
       "    </tr>\n",
       "    <tr>\n",
       "      <th>20</th>\n",
       "      <td>197.392088</td>\n",
       "      <td>1.976237e+02</td>\n",
       "      <td>1.977145e+02</td>\n",
       "      <td>1.978525e+02</td>\n",
       "      <td>1.997263e+02</td>\n",
       "    </tr>\n",
       "    <tr>\n",
       "      <th>21</th>\n",
       "      <td>197.392088</td>\n",
       "      <td>1.976254e+02</td>\n",
       "      <td>1.977185e+02</td>\n",
       "      <td>1.978558e+02</td>\n",
       "      <td>1.998060e+02</td>\n",
       "    </tr>\n",
       "    <tr>\n",
       "      <th>22</th>\n",
       "      <td>246.740110</td>\n",
       "      <td>2.471002e+02</td>\n",
       "      <td>2.472388e+02</td>\n",
       "      <td>2.474548e+02</td>\n",
       "      <td>2.503115e+02</td>\n",
       "    </tr>\n",
       "    <tr>\n",
       "      <th>23</th>\n",
       "      <td>246.740110</td>\n",
       "      <td>2.471011e+02</td>\n",
       "      <td>2.472434e+02</td>\n",
       "      <td>2.474568e+02</td>\n",
       "      <td>2.503349e+02</td>\n",
       "    </tr>\n",
       "    <tr>\n",
       "      <th>24</th>\n",
       "      <td>246.740110</td>\n",
       "      <td>2.471026e+02</td>\n",
       "      <td>2.472474e+02</td>\n",
       "      <td>2.474607e+02</td>\n",
       "      <td>2.504649e+02</td>\n",
       "    </tr>\n",
       "  </tbody>\n",
       "</table>\n",
       "</div>"
      ],
      "text/plain": [
       "    ground_truth       0.00005       0.00007        0.0001        0.0005\n",
       "0       0.000000  1.045617e-12  7.328131e-13  3.660388e-13  4.935809e-14\n",
       "1       9.869604  9.870181e+00  9.870406e+00  9.870750e+00  9.875250e+00\n",
       "2       9.869604  9.870183e+00  9.870413e+00  9.870752e+00  9.875441e+00\n",
       "3      19.739209  1.974151e+01  1.974246e+01  1.974381e+01  1.976285e+01\n",
       "4      39.478418  3.948761e+01  3.949133e+01  3.949660e+01  3.956765e+01\n",
       "5      39.478418  3.948767e+01  3.949147e+01  3.949669e+01  3.957239e+01\n",
       "6      49.348022  4.936246e+01  4.936817e+01  4.937681e+01  4.949213e+01\n",
       "7      49.348022  4.936254e+01  4.936859e+01  4.937688e+01  4.949861e+01\n",
       "8      78.956835  7.899369e+01  7.900878e+01  7.903063e+01  7.933349e+01\n",
       "9      88.826440  8.887297e+01  8.889147e+01  8.891910e+01  8.928215e+01\n",
       "10     88.826440  8.887320e+01  8.889219e+01  8.891941e+01  8.930054e+01\n",
       "11     98.696044  9.875388e+01  9.877674e+01  9.881174e+01  9.926978e+01\n",
       "12     98.696044  9.875391e+01  9.877744e+01  9.881224e+01  9.931036e+01\n",
       "13    128.304857  1.284020e+02  1.284403e+02  1.285004e+02  1.292636e+02\n",
       "14    128.304857  1.284028e+02  1.284437e+02  1.285008e+02  1.293180e+02\n",
       "15    157.913670  1.580614e+02  1.581202e+02  1.582067e+02  1.593811e+02\n",
       "16    157.913670  1.580619e+02  1.581209e+02  1.582081e+02  1.594160e+02\n",
       "17    167.783275  1.679516e+02  1.680170e+02  1.681158e+02  1.694895e+02\n",
       "18    167.783275  1.679517e+02  1.680184e+02  1.681181e+02  1.695424e+02\n",
       "19    177.652879  1.778396e+02  1.779142e+02  1.780254e+02  1.795504e+02\n",
       "20    197.392088  1.976237e+02  1.977145e+02  1.978525e+02  1.997263e+02\n",
       "21    197.392088  1.976254e+02  1.977185e+02  1.978558e+02  1.998060e+02\n",
       "22    246.740110  2.471002e+02  2.472388e+02  2.474548e+02  2.503115e+02\n",
       "23    246.740110  2.471011e+02  2.472434e+02  2.474568e+02  2.503349e+02\n",
       "24    246.740110  2.471026e+02  2.472474e+02  2.474607e+02  2.504649e+02"
      ]
     },
     "execution_count": 81,
     "metadata": {},
     "output_type": "execute_result"
    }
   ],
   "source": [
    "eigval_df"
   ]
  },
  {
   "cell_type": "code",
   "execution_count": 82,
   "metadata": {
    "collapsed": false
   },
   "outputs": [
    {
     "name": "stdout",
     "output_type": "stream",
     "text": [
      "[ 0.267004  0.004874  0.329415  1.      ]\n",
      "[ 0.229739  0.322361  0.545706  1.      ]\n",
      "[ 0.127568  0.566949  0.550556  1.      ]\n",
      "[ 0.369214  0.788888  0.382914  1.      ]\n",
      "[ 0.993248  0.906157  0.143936  1.      ]\n"
     ]
    },
    {
     "data": {
      "image/png": "[encoded data removed]",
      "text/plain": [
       "<matplotlib.figure.Figure at 0x7f4206f6ef60>"
      ]
     },
     "metadata": {},
     "output_type": "display_data"
    }
   ],
   "source": [
    "colors = cm.viridis(np.linspace(0, 1, len(fineness)+1))\n",
    "for y, c in zip(eigval_df.columns, colors):\n",
    "    print(c)\n",
    "    plt.scatter(eigval_df.index, eigval_df[y], label=y, color=c)\n",
    "plt.legend(loc='upper left')\n",
    "plt.show()"
   ]
  },
  {
   "cell_type": "code",
   "execution_count": 83,
   "metadata": {
    "collapsed": false
   },
   "outputs": [
    {
     "name": "stdout",
     "output_type": "stream",
     "text": [
      "[ 0.267004  0.004874  0.329415  1.      ]\n",
      "[ 0.229739  0.322361  0.545706  1.      ]\n",
      "[ 0.127568  0.566949  0.550556  1.      ]\n",
      "[ 0.369214  0.788888  0.382914  1.      ]\n",
      "[ 0.993248  0.906157  0.143936  1.      ]\n"
     ]
    },
    {
     "data": {
      "image/png": "[encoded data removed]",
      "text/plain": [
       "<matplotlib.figure.Figure at 0x7f4206ff34e0>"
      ]
     },
     "metadata": {},
     "output_type": "display_data"
    }
   ],
   "source": [
    "colors = cm.viridis(np.linspace(0, 1, len(fineness)+1))\n",
    "for y, c in zip(eigval_df.columns, colors):\n",
    "    print(c)\n",
    "    plt.scatter(eigval_df.index, (eigval_df[y] - eigval_df[\"ground_truth\"])/eigval_df[\"ground_truth\"],\n",
    "                label=y, color=c)\n",
    "plt.legend(loc='upper left')\n",
    "plt.show()"
   ]
  },
  {
   "cell_type": "code",
   "execution_count": null,
   "metadata": {
    "collapsed": true
   },
   "outputs": [],
   "source": []
  }
 ],
 "metadata": {
  "kernelspec": {
   "display_name": "Python [conda root]",
   "language": "python",
   "name": "conda-root-py"
  },
  "language_info": {
   "codemirror_mode": {
    "name": "ipython",
    "version": 3
   },
   "file_extension": ".py",
   "mimetype": "text/x-python",
   "name": "python",
   "nbconvert_exporter": "python",
   "pygments_lexer": "ipython3",
   "version": "3.5.2"
  }
 },
 "nbformat": 4,
 "nbformat_minor": 1
}
